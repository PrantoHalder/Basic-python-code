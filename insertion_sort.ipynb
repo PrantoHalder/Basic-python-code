{
  "nbformat": 4,
  "nbformat_minor": 0,
  "metadata": {
    "colab": {
      "provenance": [],
      "authorship_tag": "ABX9TyNWzvO+exT52joaTRS6eHNT",
      "include_colab_link": true
    },
    "kernelspec": {
      "name": "python3",
      "display_name": "Python 3"
    },
    "language_info": {
      "name": "python"
    }
  },
  "cells": [
    {
      "cell_type": "markdown",
      "metadata": {
        "id": "view-in-github",
        "colab_type": "text"
      },
      "source": [
        "<a href=\"https://colab.research.google.com/github/PrantoHalder/Basic-python-code/blob/main/insertion_sort.ipynb\" target=\"_parent\"><img src=\"https://colab.research.google.com/assets/colab-badge.svg\" alt=\"Open In Colab\"/></a>"
      ]
    },
    {
      "cell_type": "code",
      "execution_count": 7,
      "metadata": {
        "colab": {
          "base_uri": "https://localhost:8080/"
        },
        "id": "l-gHYXGpRLYm",
        "outputId": "86941516-7323-4803-b653-3f782e85d4f5"
      },
      "outputs": [
        {
          "output_type": "stream",
          "name": "stdout",
          "text": [
            "enter the number items 5\n",
            "enter the elements 13\n",
            "enter the elements 46\n",
            "enter the elements 4\n",
            "enter the elements 2\n",
            "enter the elements 1\n",
            "the list is  [13, 46, 4, 2, 1]\n",
            "the sorted list  [1, 2, 4, 13, 46]\n"
          ]
        }
      ],
      "source": [
        "li1 = []\n",
        "n=int(input(\"enter the number items \"))\n",
        "for i in range(n):\n",
        "  p=int(input(\"enter the elements \"))\n",
        "  li1.append(p)\n",
        "print(\"the list is \",li1)\n",
        "for i in range(n):\n",
        "  temp = li1[i]\n",
        "  j = i-1\n",
        "  while j>=0 and li1[j]>temp : \n",
        "    li1[j+1] = li1[j]\n",
        "    j = j-1\n",
        "  li1[j+1] = temp\n",
        "print(\"the sorted list \", li1)"
      ]
    }
  ]
}