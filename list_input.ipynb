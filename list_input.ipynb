{
  "nbformat": 4,
  "nbformat_minor": 0,
  "metadata": {
    "colab": {
      "provenance": [],
      "authorship_tag": "ABX9TyMMoRTPY2gDkoRI97c7GnYR",
      "include_colab_link": true
    },
    "kernelspec": {
      "name": "python3",
      "display_name": "Python 3"
    },
    "language_info": {
      "name": "python"
    }
  },
  "cells": [
    {
      "cell_type": "markdown",
      "metadata": {
        "id": "view-in-github",
        "colab_type": "text"
      },
      "source": [
        "<a href=\"https://colab.research.google.com/github/PrantoHalder/Basic-python-code/blob/main/list_input.ipynb\" target=\"_parent\"><img src=\"https://colab.research.google.com/assets/colab-badge.svg\" alt=\"Open In Colab\"/></a>"
      ]
    },
    {
      "cell_type": "code",
      "execution_count": 1,
      "metadata": {
        "colab": {
          "base_uri": "https://localhost:8080/"
        },
        "id": "-AG4sMFkg5Ey",
        "outputId": "4f6facbd-b4b7-405f-8689-5d9bfe3abb70"
      },
      "outputs": [
        {
          "output_type": "stream",
          "name": "stdout",
          "text": [
            "enter the number of item in the list 4\n",
            "1\n",
            "2\n",
            "3\n",
            "5\n",
            "['1', '2', '3', '5']\n"
          ]
        },
        {
          "output_type": "execute_result",
          "data": {
            "text/plain": [
              "list"
            ]
          },
          "metadata": {},
          "execution_count": 1
        }
      ],
      "source": [
        "#taking a list input form the user \n",
        "list1=[]\n",
        "n=int(input(\"enter the number of item in the list \"))\n",
        "for i in range(n):\n",
        "  new=input()\n",
        "  list1.append(new)\n",
        "print(list1)\n",
        "type(list14\n",
        "     )"
      ]
    }
  ]
}