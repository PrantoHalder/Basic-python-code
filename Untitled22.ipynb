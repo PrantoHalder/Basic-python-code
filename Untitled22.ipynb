{
  "nbformat": 4,
  "nbformat_minor": 0,
  "metadata": {
    "colab": {
      "provenance": [],
      "authorship_tag": "ABX9TyNu1gm1plssLQc7aYdYLXFs",
      "include_colab_link": true
    },
    "kernelspec": {
      "name": "python3",
      "display_name": "Python 3"
    },
    "language_info": {
      "name": "python"
    }
  },
  "cells": [
    {
      "cell_type": "markdown",
      "metadata": {
        "id": "view-in-github",
        "colab_type": "text"
      },
      "source": [
        "<a href=\"https://colab.research.google.com/github/PrantoHalder/Basic-python-code/blob/main/Untitled22.ipynb\" target=\"_parent\"><img src=\"https://colab.research.google.com/assets/colab-badge.svg\" alt=\"Open In Colab\"/></a>"
      ]
    },
    {
      "cell_type": "code",
      "execution_count": 1,
      "metadata": {
        "colab": {
          "base_uri": "https://localhost:8080/"
        },
        "id": "9QWIIawVV31N",
        "outputId": "8e272dff-4685-41b1-a382-f2cb8f7b2b40"
      },
      "outputs": [
        {
          "output_type": "stream",
          "name": "stdout",
          "text": [
            "# \n",
            "## \n",
            "### \n",
            "#### \n"
          ]
        }
      ],
      "source": [
        "# Pattern printing\n",
        "num=4\n",
        "for x in range(1,num+1):\n",
        "  for p in range(1,x+1):\n",
        "    print(\"#\",end='')\n",
        "  print(' ')\n"
      ]
    }
  ]
}