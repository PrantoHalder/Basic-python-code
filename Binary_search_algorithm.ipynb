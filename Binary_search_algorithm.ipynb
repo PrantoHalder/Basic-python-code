{
  "nbformat": 4,
  "nbformat_minor": 0,
  "metadata": {
    "colab": {
      "provenance": [],
      "authorship_tag": "ABX9TyOSI8zksm2jBYieyXWJqdNN",
      "include_colab_link": true
    },
    "kernelspec": {
      "name": "python3",
      "display_name": "Python 3"
    },
    "language_info": {
      "name": "python"
    }
  },
  "cells": [
    {
      "cell_type": "markdown",
      "metadata": {
        "id": "view-in-github",
        "colab_type": "text"
      },
      "source": [
        "<a href=\"https://colab.research.google.com/github/PrantoHalder/Basic-python-code/blob/main/Binary_search_algorithm.ipynb\" target=\"_parent\"><img src=\"https://colab.research.google.com/assets/colab-badge.svg\" alt=\"Open In Colab\"/></a>"
      ]
    },
    {
      "cell_type": "code",
      "execution_count": 15,
      "metadata": {
        "colab": {
          "base_uri": "https://localhost:8080/"
        },
        "id": "NNGDfyF_bXaN",
        "outputId": "27216703-3e3b-446b-97e8-508dc2b5e460"
      },
      "outputs": [
        {
          "output_type": "stream",
          "name": "stdout",
          "text": [
            "enter the number of item in a list 5\n",
            "enter items of the list if the list is sorted 10\n",
            "enter items of the list if the list is sorted 20\n",
            "enter items of the list if the list is sorted 30\n",
            "enter items of the list if the list is sorted 40\n",
            "enter items of the list if the list is sorted 50\n",
            "the list is   [10, 20, 30, 40, 50]\n",
            "enter the item you want to find 30\n",
            "Item found at index 2\n"
          ]
        }
      ],
      "source": [
        "import math \n",
        "\n",
        "li1 = []\n",
        "n = int (input(\"enter the number of item in a list \"))\n",
        "for i in range(n) : \n",
        "  p = int (input(\"enter items of the list if the list is sorted \"))\n",
        "  li1.append(p)\n",
        "print(\"the list is  \",li1)\n",
        "item = int (input(\"enter the item you want to find \"))\n",
        "first = 0\n",
        "last = len(li1) - 1\n",
        "mid = first + (last-first) // 2\n",
        "while first <= last: \n",
        "  if item == li1[mid]:\n",
        "    print(\"Item found at index\", mid)\n",
        "    break\n",
        "  elif item > li1[mid] :\n",
        "    first = mid + 1 \n",
        "    print (\"item found at index \", i)\n",
        "    break\n",
        "  else :\n",
        "    last = mid - 1 \n",
        "    print (\"item found at index \",i )\n",
        "    break"
      ]
    }
  ]
}