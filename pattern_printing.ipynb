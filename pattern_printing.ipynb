{
  "nbformat": 4,
  "nbformat_minor": 0,
  "metadata": {
    "colab": {
      "provenance": [],
      "authorship_tag": "ABX9TyNu1gm1plssLQc7aYdYLXFs",
      "include_colab_link": true
    },
    "kernelspec": {
      "name": "python3",
      "display_name": "Python 3"
    },
    "language_info": {
      "name": "python"
    }
  },
  "cells": [
    {
      "cell_type": "markdown",
      "metadata": {
        "id": "view-in-github",
        "colab_type": "text"
      },
      "source": [
        "<a href=\"https://colab.research.google.com/github/PrantoHalder/Basic-python-code/blob/main/pattern_printing.ipynb\" target=\"_parent\"><img src=\"https://colab.research.google.com/assets/colab-badge.svg\" alt=\"Open In Colab\"/></a>"
      ]
    },
    {
      "cell_type": "code",
      "execution_count": 2,
      "metadata": {
        "colab": {
          "base_uri": "https://localhost:8080/"
        },
        "id": "9QWIIawVV31N",
        "outputId": "f8cda8d4-c8f4-4f60-fea5-5bc2752defce"
      },
      "outputs": [
        {
          "output_type": "stream",
          "name": "stdout",
          "text": [
            "# \n",
            "## \n",
            "### \n",
            "#### \n"
          ]
        }
      ],
      "source": [
        "# Pattern printing\n",
        "num=4\n",
        "for x in range(1,num+1):\n",
        "  for p in range(1,x+1):\n",
        "    print(\"#\",end='')\n",
        "  print(' ')\n"
      ]
    }
  ]
}