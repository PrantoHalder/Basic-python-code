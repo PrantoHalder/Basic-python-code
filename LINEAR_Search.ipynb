{
  "nbformat": 4,
  "nbformat_minor": 0,
  "metadata": {
    "colab": {
      "provenance": [],
      "authorship_tag": "ABX9TyMc+GCZUBO0uF0vJujvhTFe",
      "include_colab_link": true
    },
    "kernelspec": {
      "name": "python3",
      "display_name": "Python 3"
    },
    "language_info": {
      "name": "python"
    }
  },
  "cells": [
    {
      "cell_type": "markdown",
      "metadata": {
        "id": "view-in-github",
        "colab_type": "text"
      },
      "source": [
        "<a href=\"https://colab.research.google.com/github/PrantoHalder/Basic-python-code/blob/main/LINEAR_Search.ipynb\" target=\"_parent\"><img src=\"https://colab.research.google.com/assets/colab-badge.svg\" alt=\"Open In Colab\"/></a>"
      ]
    },
    {
      "cell_type": "code",
      "execution_count": 12,
      "metadata": {
        "colab": {
          "base_uri": "https://localhost:8080/"
        },
        "id": "Uh3G6UlxXIAm",
        "outputId": "7f8bdf14-2921-4711-8a88-9bf05910bafa"
      },
      "outputs": [
        {
          "output_type": "stream",
          "name": "stdout",
          "text": [
            "enter the number of item in a list 5\n",
            "enter items 12\n",
            "enter items 15\n",
            "enter items 19\n",
            "enter items 8\n",
            "enter items 25\n",
            "the list is   [12, 15, 19, 8, 25]\n",
            "enter the item you want to find 8\n",
            "item found at index  3\n"
          ]
        }
      ],
      "source": [
        "li1 = []\n",
        "n = int (input(\"enter the number of item in a list \"))\n",
        "for i in range(n) : \n",
        "  p = int (input(\"enter items \"))\n",
        "  li1.append(p)\n",
        "print(\"the list is  \",li1)\n",
        "item = int (input(\"enter the item you want to find \"))\n",
        "for i in range(n) : \n",
        "  if item == li1[i] : \n",
        "    print (\"item found at index \",i )\n",
        "  "
      ]
    }
  ]
}